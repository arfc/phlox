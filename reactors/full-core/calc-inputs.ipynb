{
 "cells": [
  {
   "cell_type": "code",
   "execution_count": 58,
   "metadata": {},
   "outputs": [
    {
     "ename": "ModuleNotFoundError",
     "evalue": "No module named 'pyne'",
     "output_type": "error",
     "traceback": [
      "\u001b[0;31m---------------------------------------------------------------------------\u001b[0m",
      "\u001b[0;31mModuleNotFoundError\u001b[0m                       Traceback (most recent call last)",
      "\u001b[0;32m<ipython-input-58-a0040063aba4>\u001b[0m in \u001b[0;36m<module>\u001b[0;34m\u001b[0m\n\u001b[1;32m      3\u001b[0m \u001b[0;32mimport\u001b[0m \u001b[0mmatplotlib\u001b[0m\u001b[0;34m.\u001b[0m\u001b[0mpyplot\u001b[0m \u001b[0;32mas\u001b[0m \u001b[0mplt\u001b[0m\u001b[0;34m\u001b[0m\u001b[0;34m\u001b[0m\u001b[0m\n\u001b[1;32m      4\u001b[0m \u001b[0;32mfrom\u001b[0m \u001b[0mjinja2\u001b[0m \u001b[0;32mimport\u001b[0m \u001b[0mTemplate\u001b[0m\u001b[0;34m\u001b[0m\u001b[0;34m\u001b[0m\u001b[0m\n\u001b[0;32m----> 5\u001b[0;31m \u001b[0;32mfrom\u001b[0m \u001b[0mpyne\u001b[0m \u001b[0;32mimport\u001b[0m \u001b[0mdata\u001b[0m\u001b[0;34m\u001b[0m\u001b[0;34m\u001b[0m\u001b[0m\n\u001b[0m\u001b[1;32m      6\u001b[0m \u001b[0;32mfrom\u001b[0m \u001b[0mpyne\u001b[0m\u001b[0;34m.\u001b[0m\u001b[0mmaterial\u001b[0m \u001b[0;32mimport\u001b[0m \u001b[0mMaterial\u001b[0m\u001b[0;34m\u001b[0m\u001b[0;34m\u001b[0m\u001b[0m\n\u001b[1;32m      7\u001b[0m \u001b[0;32mfrom\u001b[0m \u001b[0mpyne\u001b[0m \u001b[0;32mimport\u001b[0m \u001b[0mserpent\u001b[0m\u001b[0;34m\u001b[0m\u001b[0;34m\u001b[0m\u001b[0m\n",
      "\u001b[0;31mModuleNotFoundError\u001b[0m: No module named 'pyne'"
     ]
    }
   ],
   "source": [
    "import numpy as np\n",
    "import scipy as sci\n",
    "import matplotlib.pyplot as plt\n",
    "from jinja2 import Template\n",
    "from pyne import data\n",
    "from pyne.material import Material\n",
    "from pyne import serpent\n",
    "from pyne import nucname\n",
    "import pdb"
   ]
  },
  {
   "cell_type": "markdown",
   "metadata": {},
   "source": [
    "First we want the helium density in $10^24$ atoms per cc.\n",
    "\n",
    "\\begin{align}\n",
    "PV&=nRT\\\\\n",
    "\\frac{n}{V}&=\\frac{P}{RT}\n",
    "\\end{align}"
   ]
  },
  {
   "cell_type": "code",
   "execution_count": 2,
   "metadata": {},
   "outputs": [
    {
     "name": "stdout",
     "output_type": "stream",
     "text": [
      "0.000622077124202638\n"
     ]
    }
   ],
   "source": [
    "\n",
    "R = 8.314 # j/k-mol\n",
    "temp = [250 ,750] #celsius\n",
    "pres = [6*10**6, 5.84*10**6] #pascals\n",
    "hedensity = np.zeros(len(temp))\n",
    "\n",
    "\n",
    "for i, t in enumerate(temp):\n",
    "    hedensity[i] = ((pres[i])/((t+273.15)*R)) # mol/m^3 \n",
    "\n",
    "hedensavg = np.sum(hedensity)/len(hedensity)*(6.022*10**-7)# 10^24/cc\n",
    "\n",
    "print(hedensavg)"
   ]
  },
  {
   "cell_type": "markdown",
   "metadata": {},
   "source": [
    "### Isotopic composition of the fuel\n",
    "\n",
    "The enrichment of the UCO kernels in the TRISO particles is known.  Additionally, we know the molar contentrations of the three compounds that make UCO: $UO_2$ , $UC$, and $UC_{1.86}$. The [PyNE](https://pyne.io/) python library is used to create the material cards for the fuel.\n",
    "<br>\n",
    "UCO is created from $UO_2$, $UC$, and $UC_{1.86}$ in molar concentrations of 0.714, 0.164, and 0.123, respectively."
   ]
  },
  {
   "cell_type": "code",
   "execution_count": 3,
   "metadata": {},
   "outputs": [
    {
     "name": "stdout",
     "output_type": "stream",
     "text": [
      "m?\n",
      "     6012 -1.7770e-02\n",
      "     8016 -8.6113e-02\n",
      "     92235 -1.7698e-01\n",
      "     92238 -7.1913e-01\n",
      "\n"
     ]
    },
    {
     "name": "stderr",
     "output_type": "stream",
     "text": [
      "/home/zoe/anaconda3/lib/python3.7/site-packages/ipykernel_launcher.py:1: DeprecationWarning: Using or importing the ABCs from 'collections' instead of from 'collections.abc' is deprecated, and in 3.8 it will stop working\n",
      "  \"\"\"Entry point for launching an IPython kernel.\n"
     ]
    }
   ],
   "source": [
    "leu = Material({'U235': 0.1975 , 'U238': 0.8025})\n",
    "uo2 = Material()\n",
    "uc = Material()\n",
    "uc186 = Material()\n",
    "\n",
    "uo2.from_atom_frac({'O16': 2.0 , leu :1.0})\n",
    "uc.from_atom_frac({'C12':1, leu: 1.0})\n",
    "uc186.from_atom_frac({'C12':1.86, leu : 1.0})\n",
    "\n",
    "uco = Material()\n",
    "uco.from_atom_frac({uo2: 0.714, uc: 0.164, uc186: 0.123})\n",
    "print(uco.mcnp()) #the negative values for composition mean it is mass fraction, just like serpent\n"
   ]
  },
  {
   "cell_type": "markdown",
   "metadata": {},
   "source": [
    "In order to find the core dimensions, I used an image of the reactor core given in a public presentation to the NRC.  \n",
    "<br>\n",
    "Then, I opened it in an image viewer that gave the cursor's coordinates in pixels, measured the reactor core features in pixels.  Knowing the outer core diameter, developed a scale between pixels and meters, and used that to determine the core geometry.\n",
    "\n",
    "\\begin{align}\n",
    "s (\\frac{cm}{px}) = 100* \\frac{RPV_D (m)}{RPV_D (px)}\\\\\n",
    "x (cm) = x (px) * scale\n",
    "\\end{align}"
   ]
  },
  {
   "cell_type": "code",
   "execution_count": 4,
   "metadata": {},
   "outputs": [
    {
     "name": "stdout",
     "output_type": "stream",
     "text": [
      "431.4202898550724\n",
      "\n",
      "123.76811594202897\n",
      "91.94202898550724\n",
      "215.7101449275362\n"
     ]
    }
   ],
   "source": [
    "core_dm = 4.88 # m\n",
    "core_dpx = 69 #px\n",
    "scale = core_dm/core_dpx *100 # cm/px\n",
    "\n",
    "inner_corerad_px = 17.5\n",
    "inner_corerad_cm = inner_corerad_px *scale\n",
    "reflect_px = 13\n",
    "reflect_cm = reflect_px *scale\n",
    "\n",
    "print(2*(reflect_cm+inner_corerad_cm)) #can't be more than 488, which is the diameter including RPV\n",
    "print()\n",
    "print(inner_corerad_cm)\n",
    "print(reflect_cm)\n",
    "print(inner_corerad_cm+reflect_cm)"
   ]
  },
  {
   "cell_type": "markdown",
   "metadata": {},
   "source": [
    "I found the midpoint of the cones on the top and bottom , and used the distance between these two midpoints as an adjusted height.  Then, I simplified by letting the reflector directly surround this region."
   ]
  },
  {
   "cell_type": "markdown",
   "metadata": {},
   "source": [
    "### Creating the input file\n",
    "\n",
    "The first step to creating the input file is to create the pebble and particle location input cards.  This can be done using serpent's built in particle dispersal routine, which takes the dimensions of the particle, the volume they are dispersed in, and the particle number or packing fraction, the universe the particles are in, and creates a plain text file, where each line is:\n",
    "\n",
    "\\begin{align}\n",
    "x-coordinate\\ \\ y-coordinate\\ \\  z-coordinate\\ \\  universe\n",
    "\\end{align}\n",
    "\n",
    "In order to split the automatically generated distribution file into several sub-files for modeling different fuel compositions, the cell below splits a given text file into multiple.  It can also append a character to the universe name, if needed."
   ]
  },
  {
   "cell_type": "markdown",
   "metadata": {},
   "source": [
    "origin = open('pbbls-20.inp','r')\n",
    "\n",
    "filenames = ['pbbls-20-0.inp','pbbls-20-1.inp','pbbls-20-2.inp','pbbls-20-3.inp','pbbls-20-4.inp','pbbls-20-5.inp','pbbls-20-6.inp']\n",
    "\n",
    "lines = 0\n",
    "for line in list(origin):\n",
    "    lines += 1\n",
    "origin.seek(0)\n",
    "i = 0\n",
    "\n",
    "file = ['f0','f1','f2','f3','f4','f5','f6']\n",
    "for index, name in enumerate(filenames):\n",
    "    file[index] = open(name,'a+')\n",
    "subuniverse = ['a','b','c','d']    \n",
    "    \n",
    "while i < lines:\n",
    "    for index, f in enumerate(file):\n",
    "        #use lines below if you need to append a new character to universe name\n",
    "        #newline = origin.readline()\n",
    "        #f.write(newline[:-1] + subuniverse[index] + newline[-1:])\n",
    "        f.write(origin.readline())\n",
    "        i += 1\n",
    "        if i == lines:\n",
    "            break\n",
    "for f in file:\n",
    "    f.close()\n",
    "origin.close()"
   ]
  },
  {
   "cell_type": "markdown",
   "metadata": {},
   "source": [
    "After the above is used to create the input file, it is run in the terminal with Serpent 2.1.31"
   ]
  },
  {
   "cell_type": "code",
   "execution_count": 10,
   "metadata": {},
   "outputs": [],
   "source": [
    "dep = serpent.parse_dep('../single-pebble/burn-20/htgr-mr-burn-20.inp_dep.m')"
   ]
  },
  {
   "cell_type": "code",
   "execution_count": 20,
   "metadata": {
    "scrolled": true
   },
   "outputs": [
    {
     "name": "stdout",
     "output_type": "stream",
     "text": [
      "H-1.08c       1.4039761314610683e-08\n",
      "H-2.08c       8.575872266426048e-09\n",
      "H-3.08c       1.7809450461743885e-07\n",
      "He-3.08c       2.403414454964853e-09\n",
      "He-4.08c       4.1936188654818196e-06\n",
      "Li-6.08c       3.7024814426859424e-08\n",
      "Li-7.08c       1.3328754919071045e-08\n",
      "Be-9.08c       3.1081994308479828e-09\n",
      "B-10.08c       2.3048449742374247e-09\n",
      "B-11.08c       4.931884902411149e-10\n",
      "C-nat.08c       0.017770521110676857\n",
      "N-14.08c       2.1979529803730034e-12\n",
      "N-15.08c       1.618496866254497e-09\n",
      "O-16.08c       0.08611036021385192\n",
      "O-17.08c       2.766667140376986e-08\n",
      "Ca-46.08c       6.52385887434054e-26\n",
      "Ca-48.08c       1.5542179587800361e-30\n",
      "Ti-47.08c       1.0258065919017555e-23\n",
      "Ti-48.08c       1.5385370706399525e-24\n",
      "Ti-49.08c       1.8358918241640898e-17\n",
      "Ti-50.08c       9.113288319649272e-15\n",
      "Cr-52.08c       3.286683228976092e-14\n",
      "Cr-53.08c       6.121212960079972e-14\n",
      "Cr-54.08c       1.178486051483799e-13\n",
      "Mn-55.08c       2.0837389940765826e-13\n",
      "Fe-56.08c       4.405310855372948e-13\n",
      "Fe-57.08c       1.199569751430849e-12\n",
      "Fe-58.08c       1.1696268954232183e-12\n",
      "Co-58.08c       2.402495795044813e-20\n",
      "Co-59.08c       2.6646776979670346e-12\n",
      "Ni-60.08c       9.624827269184251e-15\n",
      "Ni-61.08c       1.970598293627337e-11\n",
      "Ni-62.08c       3.251437613231995e-11\n",
      "Ni-64.08c       8.867360330361813e-11\n",
      "Cu-63.08c       4.4008176078432486e-13\n",
      "Cu-65.08c       1.7387503593519712e-10\n",
      "Ge-70.08c       3.400460624419425e-14\n",
      "Ge-72.08c       1.9313233081349465e-08\n",
      "Ge-73.08c       4.6451083814316273e-08\n",
      "Ge-74.08c       1.6058539228004855e-07\n",
      "Ge-76.08c       1.5540542372101281e-06\n",
      "As-75.08c       3.0189438883197693e-07\n",
      "Se-74.08c       6.961495726347571e-15\n",
      "Se-76.08c       3.978161279482806e-09\n",
      "Se-77.08c       2.810690051396711e-06\n",
      "Se-78.08c       7.786761586397492e-06\n",
      "Se-79.08c       1.463989182475147e-05\n",
      "Se-80.08c       4.577254886347508e-05\n",
      "Se-82.08c       0.00011516630009471945\n",
      "Br-79.08c       5.045280280858029e-11\n",
      "Br-81.08c       6.863144541046688e-05\n",
      "Kr-80.08c       1.0215953092980091e-10\n",
      "Kr-82.08c       9.205154311653243e-07\n",
      "Kr-83.08c       0.00016408539561897208\n",
      "Kr-84.08c       0.00039723309724655243\n",
      "Kr-85.08c       9.696046152094258e-05\n",
      "Kr-86.08c       0.0007233610071177548\n",
      "Rb-85.08c       0.0003782614055513167\n",
      "Rb-86.08c       3.314188452720647e-08\n",
      "Rb-87.08c       0.0009433273032391814\n",
      "Sr-84.08c       2.1208310253035318e-13\n",
      "Sr-86.08c       6.474842455438619e-07\n",
      "Sr-87.08c       7.080184768888145e-09\n",
      "Sr-88.08c       0.0013062070672976353\n",
      "Sr-89.08c       0.00010505376446006461\n",
      "Sr-90.08c       0.0020587532633800573\n",
      "Y-89.08c       0.00165270557872251\n",
      "Y-90.08c       5.376170669285003e-07\n",
      "Y-91.08c       0.0001574082842595548\n",
      "Zr-90.08c       7.859463059079445e-05\n",
      "Zr-91.08c       0.002084421167284533\n",
      "Zr-92.08c       0.0023872242108294995\n",
      "Zr-93.08c       0.002605128524734362\n",
      "Zr-94.08c       0.0026731639326739356\n",
      "Zr-95.08c       0.00022050657730212313\n",
      "Zr-96.08c       0.002724854470551021\n",
      "Nb-93.08c       5.110332317968168e-10\n",
      "Nb-94.08c       1.7335476516860038e-10\n",
      "Nb-95.08c       0.00012332418209752742\n",
      "Mo-94.08c       6.982661287079576e-10\n",
      "Mo-95.08c       0.002351441952161815\n",
      "Mo-96.08c       6.521184755365375e-05\n",
      "Mo-97.08c       0.0026526714495071096\n",
      "Mo-98.08c       0.0026157977137067044\n",
      "Mo-99.08c       9.48084324409288e-06\n",
      "Mo-100.08c       0.002945705772714228\n",
      "Tc-99.08c       0.002658783721450344\n",
      "Ru-98.08c       3.3299330103601394e-14\n",
      "Ru-99.08c       1.0514017306640498e-07\n",
      "Ru-100.08c       0.00017041505342447336\n",
      "Ru-101.08c       0.0024791993505467414\n",
      "Ru-102.08c       0.002272018799470858\n",
      "Ru-103.08c       9.941992332667261e-05\n",
      "Ru-104.08c       0.0012946374096907988\n",
      "Ru-105.08c       2.5220762105771095e-07\n",
      "Ru-106.08c       0.0002676738520283595\n",
      "Rh-103.08c       0.0012237004917067431\n",
      "Rh-105.08c       1.8791325099053645e-06\n",
      "Pd-104.08c       0.0004711824921169164\n",
      "Pd-105.08c       0.0007716670563191295\n",
      "Pd-106.08c       0.00033717547758288773\n",
      "Pd-107.08c       0.0003222167834789542\n",
      "Pd-108.08c       0.00020848486624948481\n",
      "Pd-110.08c       7.584010613351898e-05\n",
      "Ag-107.08c       3.9662641787361535e-11\n",
      "Ag-109.08c       0.0001083063663155715\n",
      "Ag-111.08c       5.786420540903523e-07\n",
      "Cd-108.08c       3.630689534281255e-11\n",
      "Cd-110.08c       2.3687418647154336e-05\n",
      "Cd-111.08c       3.6454517625012996e-05\n",
      "Cd-112.08c       1.7609983015739227e-05\n",
      "Cd-113.08c       1.70410505603087e-07\n",
      "Cd-114.08c       2.955137954269487e-05\n",
      "Cd-116.08c       1.230931527711016e-05\n",
      "In-113.08c       1.0656909854599148e-08\n",
      "In-115.08c       5.4682276697871984e-06\n",
      "Sn-112.08c       5.449772610601451e-16\n",
      "Sn-114.08c       3.820097199379341e-10\n",
      "Sn-115.08c       4.908781969768567e-07\n",
      "Sn-116.08c       4.568586738785153e-06\n",
      "Sn-117.08c       1.0589965923792296e-05\n",
      "Sn-118.08c       1.1514174185923321e-05\n",
      "Sn-119.08c       1.065245298964054e-05\n",
      "Sn-120.08c       1.1260587665421277e-05\n",
      "Sn-122.08c       1.5802769753237366e-05\n",
      "Sn-123.08c       1.950706122883507e-07\n",
      "Sn-124.08c       2.4604896133633587e-05\n",
      "Sn-125.08c       1.1319527430588177e-07\n",
      "Sn-126.08c       5.657025926819515e-05\n",
      "Sb-121.08c       9.705869446288743e-06\n",
      "Sb-123.08c       1.1775492002782138e-05\n",
      "Sb-124.08c       5.056422443254551e-08\n",
      "Sb-125.08c       1.9926552273510624e-05\n",
      "Sb-126.08c       1.3953807490408949e-08\n",
      "Te-120.08c       3.625150287832699e-18\n",
      "Te-122.08c       3.148511319616458e-07\n",
      "Te-123.08c       1.4683187084349379e-09\n",
      "Te-124.08c       2.652689640792655e-07\n",
      "Te-125.08c       7.0331239131823495e-06\n",
      "Te-126.08c       1.223482196280199e-06\n",
      "Te-128.08c       0.00025368657257254714\n",
      "Te-130.08c       0.0012035354516797333\n",
      "Te-132.08c       1.0814446387421798e-05\n",
      "I-127.08c       0.00010533118156463104\n",
      "I-129.08c       0.0005388895473523968\n",
      "I-130.08c       2.6075388700691195e-08\n",
      "I-131.08c       1.8696184675651513e-05\n",
      "I-135.08c       1.3022868452626146e-06\n",
      "Xe-126.08c       1.2155507957824304e-11\n",
      "Xe-128.08c       2.5976519063752267e-06\n",
      "Xe-129.08c       9.94481198192679e-09\n",
      "Xe-130.08c       1.7192856838184566e-05\n",
      "Xe-131.08c       0.0015154978074967786\n",
      "Xe-132.08c       0.0030517609674435638\n",
      "Xe-133.08c       2.6782938751977217e-05\n",
      "Xe-134.08c       0.004799898030136931\n",
      "Xe-135.08c       6.459270715011808e-07\n",
      "Xe-136.08c       0.0066041006348810365\n",
      "Cs-133.08c       0.003789872378445758\n",
      "Cs-134.08c       0.0002337107219152086\n",
      "Cs-135.08c       0.0017022768318335631\n",
      "Cs-136.08c       1.0998724109996098e-06\n",
      "Cs-137.08c       0.0038152856043525986\n",
      "Ba-132.08c       3.201666255979943e-11\n",
      "Ba-134.08c       7.900839138052323e-05\n",
      "Ba-135.08c       2.1001384379957073e-07\n",
      "Ba-136.08c       3.214809459786451e-05\n",
      "Ba-137.08c       0.0001326572211465644\n",
      "Ba-138.08c       0.0042493205818216525\n",
      "Ba-140.08c       6.274429062585602e-05\n",
      "La-138.08c       8.209063184689801e-09\n",
      "La-139.08c       0.004009432099335247\n",
      "La-140.08c       8.479531218177925e-06\n",
      "Ce-140.08c       0.004015708092848389\n",
      "Ce-141.08c       0.000152572130997326\n",
      "Ce-142.08c       0.0037873710766832738\n",
      "Ce-143.08c       6.189548524231043e-06\n",
      "Ce-144.08c       0.0012071009436466198\n",
      "Pr-141.08c       0.003579535639327757\n",
      "Pr-142.08c       1.1052479358782579e-07\n",
      "Pr-143.08c       6.191131166073487e-05\n",
      "Nd-142.08c       4.2745700861585854e-05\n",
      "Nd-143.08c       0.003738527474994034\n",
      "Nd-144.08c       0.0023031349933961627\n",
      "Nd-145.08c       0.0024229609912833215\n",
      "Nd-146.08c       0.002164335484685214\n",
      "Nd-147.08c       2.0460102678555464e-05\n",
      "Nd-148.08c       0.0011843618367149442\n",
      "Nd-150.08c       0.0004967339717939018\n",
      "Pm-147.08c       0.0007329832876069628\n",
      "Pm-148.08c       2.6268398240327256e-06\n",
      "Pm-149.08c       2.9494622731793407e-06\n",
      "Pm-151.08c       5.512250580806922e-07\n",
      "Sm-147.08c       0.0003673220759886261\n",
      "Sm-148.08c       0.00024148112953590085\n",
      "Sm-149.08c       7.3091311931190285e-06\n",
      "Sm-150.08c       0.0008057429724026613\n",
      "Sm-151.08c       4.413733420580441e-05\n",
      "Sm-152.08c       0.0003868640644857082\n",
      "Sm-153.08c       1.8017467811954855e-06\n",
      "Sm-154.08c       8.066843714296329e-05\n",
      "Eu-151.08c       3.321583210294828e-08\n",
      "Eu-152.08c       9.545149438495657e-08\n",
      "Eu-153.08c       0.00028763242096442994\n",
      "Eu-154.08c       3.1003044129213055e-05\n",
      "Eu-155.08c       6.898053618008195e-06\n",
      "Eu-156.08c       6.06030853607417e-06\n",
      "Eu-157.08c       2.4534041076434486e-08\n",
      "Gd-152.08c       3.5969719865229664e-09\n",
      "Gd-154.08c       2.423688642705135e-06\n",
      "Gd-155.08c       1.0104349556159427e-07\n",
      "Gd-156.08c       0.00012224907712179777\n",
      "Gd-157.08c       2.311284689320475e-07\n",
      "Gd-158.08c       3.002344340259646e-05\n",
      "Gd-160.08c       3.6021292159750704e-06\n",
      "Tb-159.08c       5.320869161227167e-06\n",
      "Tb-160.08c       7.159189522011559e-08\n",
      "Dy-160.08c       1.9064740120800111e-07\n",
      "Dy-161.08c       1.474403693449854e-06\n",
      "Dy-162.08c       1.4674728136570795e-06\n",
      "Dy-163.08c       8.475210787860906e-07\n",
      "Dy-164.08c       2.1274162706709452e-07\n",
      "Ho-165.08c       4.589624960518339e-07\n",
      "Er-162.08c       7.575069596506364e-22\n",
      "Er-164.08c       1.2478949014820462e-12\n",
      "Er-166.08c       1.2077558299262522e-07\n",
      "Er-167.08c       1.0917409063608425e-08\n",
      "Er-168.08c       7.132129984762866e-08\n",
      "Er-170.08c       7.789790435440792e-09\n",
      "Lu-175.08c       3.121306252083401e-10\n",
      "Lu-176.08c       1.4730575383194993e-12\n",
      "Hf-174.08c       1.125713132116766e-20\n",
      "Hf-176.08c       1.3028052969006565e-11\n",
      "Hf-177.08c       4.563347648548094e-11\n",
      "Hf-178.08c       8.29646321609239e-11\n",
      "Hf-179.08c       3.887896120606826e-11\n",
      "Hf-180.08c       1.4972155655237113e-11\n",
      "Ta-181.08c       6.070359221337971e-12\n",
      "Ta-182.08c       3.136887088152985e-14\n",
      "W-182.08c       6.283579279214908e-14\n",
      "W-183.08c       2.442689440457243e-12\n",
      "W-184.08c       1.1926388716380743e-12\n",
      "W-186.08c       2.9865634000490633e-13\n",
      "Re-185.08c       3.2405228419047907e-13\n",
      "Re-187.08c       1.799491061787863e-13\n",
      "Ir-191.08c       1.4457888012870338e-16\n",
      "Ir-193.08c       1.4222128952202722e-16\n",
      "Au-197.08c       5.381455237735923e-18\n",
      "Hg-196.08c       2.5301531413592404e-20\n",
      "Hg-198.08c       2.0837662810049006e-18\n",
      "Hg-199.08c       1.3929522124205919e-18\n",
      "Hg-200.08c       2.1318822312723265e-18\n",
      "Hg-201.08c       1.0895943346664923e-21\n",
      "Pb-206.08c       8.041175810391852e-19\n",
      "Pb-207.08c       1.983505010721756e-16\n",
      "Pb-208.08c       4.350400459954338e-13\n",
      "Bi-209.08c       1.0206948406635148e-17\n",
      "Ra-223.08c       7.865693574378725e-18\n",
      "Ra-224.08c       7.464875884315463e-15\n",
      "Ra-225.08c       1.024060228489403e-18\n",
      "Ra-226.08c       3.4134037240849344e-17\n",
      "Ac-225.08c       6.625684595180583e-19\n",
      "Ac-226.08c       3.22032141930669e-23\n",
      "Ac-227.08c       6.357881585024852e-15\n",
      "Th-227.08c       1.3121010438143258e-17\n",
      "Th-228.08c       1.4760772917200254e-12\n",
      "Th-229.08c       2.0031788860390415e-13\n",
      "Th-230.08c       4.728897442653467e-12\n",
      "Th-232.08c       8.803545300668759e-10\n",
      "Th-234.08c       1.0061054296561518e-11\n",
      "Pa-231.08c       1.1117058422468537e-10\n",
      "Pa-232.08c       5.162432159770024e-13\n",
      "Pa-233.08c       2.36133801149848e-11\n",
      "U-232.08c       1.9014441216267248e-10\n",
      "U-233.08c       4.605014788089697e-10\n",
      "U-234.08c       2.0524590785813694e-06\n",
      "U-235.08c       0.06474769690296438\n",
      "U-236.08c       0.019038089887476187\n",
      "U-237.08c       1.8842897393574686e-05\n",
      "U-238.08c       0.6919173700526337\n",
      "Np-235.08c       6.879625845750764e-13\n",
      "Np-236.08c       1.0675374009427669e-10\n",
      "Np-237.08c       0.000747542682993176\n",
      "Np-238.08c       2.5556209411227175e-06\n",
      "Np-239.08c       9.927348347803263e-05\n",
      "Pu-236.08c       7.055435524903709e-13\n",
      "Pu-237.08c       2.1334830644003167e-11\n",
      "Pu-238.08c       0.0002880690118175181\n",
      "Pu-239.08c       0.0038013874621959584\n",
      "Pu-240.08c       0.002441416050469069\n",
      "Pu-241.08c       0.0021209310773740316\n",
      "Pu-242.08c       0.001197523231806998\n",
      "Pu-243.08c       1.3815735633119815e-07\n",
      "Pu-244.08c       1.4219036433660014e-08\n",
      "Pu-246.08c       4.217476736474533e-26\n",
      "Am-241.08c       4.086726871617399e-05\n",
      "Am-242.08c       2.2492069273970006e-07\n",
      "Am-243.08c       0.00010783885027705624\n",
      "Am-244.08c       3.4243457823404566e-09\n",
      "Cm-240.08c       6.512325599304793e-15\n",
      "Cm-241.08c       5.922982521492395e-13\n",
      "Cm-242.08c       3.302973525181945e-05\n",
      "Cm-243.08c       3.8386795975639064e-07\n",
      "Cm-244.08c       1.769630066565187e-05\n",
      "Cm-245.08c       4.112394775521873e-07\n",
      "Cm-246.08c       2.0879866592514197e-08\n",
      "Cm-247.08c       8.544692403001335e-11\n",
      "Cm-248.08c       2.804314005813068e-12\n",
      "Cm-249.08c       1.523411016709002e-17\n",
      "Cm-250.08c       4.5126212488049116e-20\n",
      "Bk-249.08c       1.8548380480595623e-14\n",
      "Cf-249.08c       3.4291846642955174e-15\n",
      "Cf-251.08c       9.052456660785653e-22\n"
     ]
    }
   ],
   "source": [
    "mats = dep['MAT_fuel_MATERIAL']\n",
    "#mats[1].comp.keys\n",
    "newdict = {nucname.serpent(k): v for k,v in mats[6].comp.items()}\n",
    "\n",
    "for k,v in newdict.items():\n",
    "    print('{}.08c'.format(k),\"     \" ,v)"
   ]
  },
  {
   "cell_type": "code",
   "execution_count": 7,
   "metadata": {},
   "outputs": [
    {
     "data": {
      "text/plain": [
       "{'np': <module 'numpy' from '/home/zoe/anaconda3/lib/python3.7/site-packages/numpy/__init__.py'>,\n",
       " 'TOT_FLUX': array([[9.3077e+02, 3.5800e-03]]),\n",
       " 'TOT_CUTRATE': array([[0., 0.]]),\n",
       " 'PU239_CAPT': array([[0.0191427, 0.02283  , 0.0424034, 0.02234  ]]),\n",
       " 'ANA_INV_SPD': array([[1.51219e-06, 2.35000e-03]]),\n",
       " 'RES_MEMSIZE': array([30.69]),\n",
       " 'URES_DILU_CUT': array([1.e-09]),\n",
       " 'SRC_NORM_MODE': array([2]),\n",
       " 'TOT_RR': array([[3.1922e+02, 4.5900e-03]]),\n",
       " 'ANA_EALF': array([[1.78105e-07, 1.31000e-02]]),\n",
       " 'TOT_NUCLIDES': array([316]),\n",
       " 'PU240_FISS': array([[1.91763e-05, 7.03540e-01, 4.48023e-05, 7.03600e-01]]),\n",
       " 'ADJ_NAUCHI_LIFETIME': array([[0.00100877, 0.00856   , 0.00100924, 0.00871   , 0.00082817,\n",
       "         0.12952   ]]),\n",
       " 'TOT_SF_RATE': array([0.]),\n",
       " 'ANA_THERM_TIME': array([[0.00182407, 0.00564   , 0.0018247 , 0.00566   , 0.00169437,\n",
       "         0.08766   ]]),\n",
       " 'TOT_CELLS': array([4]),\n",
       " 'ELECTRON_DECAY_SOURCE': array([0.]),\n",
       " 'VERSION': array([b'Serpent 2.1.31'], dtype='|S14'),\n",
       " 'REA_SAMPLING_EFF': array([[1., 0., 0., 0.]]),\n",
       " 'POP': array([1000]),\n",
       " 'GROUP_CONSTANT_GENERATION': array([0]),\n",
       " 'DT_EFF': array([[8.82274e-01, 4.00000e-04, 0.00000e+00, 0.00000e+00]]),\n",
       " 'IMP_ALF': array([[0., 0.]]),\n",
       " 'SIX_FF_F': array([[0.806689, 0.00207 ]]),\n",
       " 'SIX_FF_KEFF': array([[1.05763, 0.00424]]),\n",
       " 'BRA_DATA_FILE_PATH': array([b'N/A'], dtype='|S3'),\n",
       " 'BALA_LOSS_NEUTRON_TOT': array([[100273., 100004.]]),\n",
       " 'IFP_CHAIN_LENGTH': array([15]),\n",
       " 'MG_MAJORANT_MODE': array([0]),\n",
       " 'START_DATE': array([b'Thu Oct  8 09:33:08 2020'], dtype='|S24'),\n",
       " 'ADJ_MEULEKAMP_BETA_EFF': array([[0., 0., 0., 0., 0., 0., 0., 0., 0., 0., 0., 0., 0., 0., 0., 0.,\n",
       "         0., 0.]]),\n",
       " 'SAMPLE_FISS': array([1]),\n",
       " 'BALA_LOSS_NEUTRON_ERR': array([[0., 0.]]),\n",
       " 'ADJ_PERT_GEN_TIME': array([[0.00095968, 0.00618   ]]),\n",
       " 'REA_SAMPLING_FAIL': array([[0., 0., 0., 0.]]),\n",
       " 'INIT_TIME': array([[0.4074, 0.4074]]),\n",
       " 'UNION_CELLS': array([0]),\n",
       " 'COL_KEFF': array([[1.05763, 0.00424]]),\n",
       " 'ABS_KINF': array([[1.20568, 0.00392]]),\n",
       " 'ANA_DELAYED_EMTIME': array([[13.8674 ,  0.10186]]),\n",
       " 'USE_URES': array([0]),\n",
       " 'CONVERSION_RATIO': array([[0.325096, 0.00852 ]]),\n",
       " 'UNKNOWN_MEMSIZE': array([0.]),\n",
       " 'B1_CALCULATION': array([[0., 0., 0.]]),\n",
       " 'ANA_THERM_FRAC': array([[0.754093, 0.00176 , 0.754085, 0.00173 , 0.903614, 0.0633  ]]),\n",
       " 'PU241_CAPT': array([[0.00403593, 0.04573   , 0.00893952, 0.04559   ]]),\n",
       " 'ADJ_PERT_BETA_EFF': array([[0.00677884, 0.03251   ]]),\n",
       " 'U238_CAPT': array([[0.154593, 0.00716 , 0.342579, 0.00639 ]]),\n",
       " 'ABS_KEFF': array([[1.05763, 0.00424]]),\n",
       " 'TOT_POWDENS': array([[0., 0.]]),\n",
       " 'ACTINIDE_ACTIVITY': array([0.]),\n",
       " 'GEOM_ALBEDO': array([[1., 0., 1., 0., 1., 0.]]),\n",
       " 'RECONSTRUCT_MICROXS': array([0]),\n",
       " 'IMPL_FISS': array([0]),\n",
       " 'SAMPLE_SCATT': array([1]),\n",
       " 'TOT_FMASS': array([0.]),\n",
       " 'RECONSTRUCT_MACROXS': array([0]),\n",
       " 'UNUSED_MEMSIZE': array([115.55]),\n",
       " 'SFY_DATA_FILE_PATH': array([b'N/A'], dtype='|S3'),\n",
       " 'LOST_PARTICLES': array([0]),\n",
       " 'ST_FRAC': array([[0.129563, 0.00446 , 0.      , 0.      ]]),\n",
       " 'SHARE_RES2_ARRAY': array([1]),\n",
       " 'NEUTRON_EMAX': array([20.]),\n",
       " 'U235_CAPT': array([[0.0826571, 0.01047  , 0.183158 , 0.00988  ]]),\n",
       " 'INI_FMASS': array([0.]),\n",
       " 'ADJ_PERT_LIFETIME': array([[0.00101256, 0.00407   ]]),\n",
       " 'MPI_REPRODUCIBILITY': array([0]),\n",
       " 'SIX_FF_ETA': array([[1.84948, 0.00272]]),\n",
       " 'AVG_REAL_COL': array([[3.19211e+02, 4.59000e-03, 0.00000e+00, 0.00000e+00]]),\n",
       " 'ADJ_IFP_IMP_LAMBDA': array([[0., 0., 0., 0., 0., 0., 0., 0., 0., 0., 0., 0., 0., 0., 0., 0.,\n",
       "         0., 0.]]),\n",
       " 'TOT_SRCRATE': array([[9.99961e-01, 1.90000e-05]]),\n",
       " 'SIX_FF_P': array([[0.718891, 0.00205 ]]),\n",
       " 'ADJ_IFP_ROSSI_ALPHA': array([[0., 0.]]),\n",
       " 'FISSE': array([[2.02947e+02, 4.60000e-05]]),\n",
       " 'TOT_PHOTON_NUCLIDES': array([0]),\n",
       " 'CPU_USAGE': array([3.34979]),\n",
       " 'BATCH_INTERVAL': array([1]),\n",
       " 'TOT_COL_EFF': array([[8.7259e-01, 4.6000e-04, 0.0000e+00, 0.0000e+00]]),\n",
       " 'TOT_REA_CHANNELS': array([7308]),\n",
       " 'BALA_SRC_NEUTRON_VR': array([[0., 0.]]),\n",
       " 'AVAIL_MEM': array([32014.02]),\n",
       " 'TOT_POWER': array([[1.3846e-11, 4.2600e-03]]),\n",
       " 'SIMULATED_HISTORIES': array([100273]),\n",
       " 'PHOTON_TRANSPORT_MODE': array([0]),\n",
       " 'MIN_MACROXS': array([[0.05, 0.  , 0.  , 0.  ]]),\n",
       " 'NEUTRON_EMIN': array([1.e-11]),\n",
       " 'IMP_AFGE': array([[0., 0.]]),\n",
       " 'TITLE': array([b'Untitled'], dtype='|S8'),\n",
       " 'ADJ_IFP_IMP_BETA_EFF': array([[0., 0., 0., 0., 0., 0., 0., 0., 0., 0., 0., 0., 0., 0., 0., 0.,\n",
       "         0., 0.]]),\n",
       " 'U235_FISS': array([[0.379486, 0.00476 , 0.891112, 0.00164 ]]),\n",
       " 'BALA_LOSS_NEUTRON_LEAK': array([[12321. , 12285.1]]),\n",
       " 'OMP_SHARED_QUEUE_LIM': array([0]),\n",
       " 'CPU_MHZ': array([220.]),\n",
       " 'ALPHA_DECAY_SOURCE': array([0.]),\n",
       " 'TOT_FISSRATE': array([[0.425824, 0.00427 ]]),\n",
       " 'NORM_COEF': array([[9.99961e-04, 1.90000e-05, 0.00000e+00, 0.00000e+00]]),\n",
       " 'IFC_MEMSIZE': array([0.]),\n",
       " 'IMPL_NXN': array([1]),\n",
       " 'TOT_CPU_TIME': array([8.24053]),\n",
       " 'OMP_PARALLEL_FRAC': array([0.83553]),\n",
       " 'FISSION_PRODUCT_INH_TOX': array([0.]),\n",
       " 'PU239_FISS': array([[0.0349243, 0.01539  , 0.0820846, 0.01536  ]]),\n",
       " 'NEUTRON_TRANSPORT_MODE': array([1]),\n",
       " 'TOT_ACTIVITY': array([0.]),\n",
       " 'ADJ_NAUCHI_LAMBDA': array([[3.88742e-01, 9.76300e-02, 1.24667e-02, 0.00000e+00, 2.82917e-02,\n",
       "         0.00000e+00, 4.25244e-02, 0.00000e+00, 1.33042e-01, 5.00000e-09,\n",
       "         2.92467e-01, 0.00000e+00, 6.66488e-01, 4.60000e-09, 1.63478e+00,\n",
       "         3.80000e-09, 3.55460e+00, 0.00000e+00]]),\n",
       " 'SIX_FF_LT': array([[0.877538, 0.00118 ]]),\n",
       " 'DT_FRAC': array([[8.70437e-01, 6.60000e-04, 0.00000e+00, 0.00000e+00]]),\n",
       " 'SKIP': array([50]),\n",
       " 'AVG_TRACKING_LOOPS': array([[2.63819e+00, 1.70000e-03, 0.00000e+00, 0.00000e+00, 0.00000e+00,\n",
       "         0.00000e+00, 0.00000e+00, 0.00000e+00]]),\n",
       " 'TOT_TRANSMU_REA': array([0]),\n",
       " 'PU241_FISS': array([[0.0102574, 0.03068  , 0.0240757, 0.03044  ]]),\n",
       " 'ANA_MEAN_NCOL': array([[3.19211e+02, 4.59000e-03, 2.43344e+02, 5.04000e-03]]),\n",
       " 'BALA_SRC_NEUTRON_NXN': array([[0.     , 3.93141]]),\n",
       " 'NEUTRON_ERG_TOL': array([0.]),\n",
       " 'TOT_ABSRATE': array([[0.877154, 0.00117 ]]),\n",
       " 'TOT_PHOTON_PRODRATE': array([[0., 0., 0., 0.]]),\n",
       " 'ADJ_IFP_ANA_BETA_EFF': array([[7.40891e-03, 1.75210e-01, 1.05042e-04, 1.00000e+00, 1.84086e-03,\n",
       "         3.25290e-01, 1.00948e-03, 3.85840e-01, 1.69922e-03, 3.22050e-01,\n",
       "         8.50243e-04, 4.05490e-01, 5.00441e-04, 6.99510e-01, 1.20680e-03,\n",
       "         4.36730e-01, 1.96834e-04, 7.89880e-01]]),\n",
       " 'COMPLETE_DATE': array([b'Thu Oct  8 09:35:36 2020'], dtype='|S24'),\n",
       " 'CYCLES': array([100]),\n",
       " 'TOT_LEAKRATE': array([[0.122846, 0.00838 ]]),\n",
       " 'DECAY_DATA_FILE_PATH': array([b'N/A'], dtype='|S3'),\n",
       " 'ANA_AFGE': array([[0.0106403, 0.08362  ]]),\n",
       " 'URES_EMIN': array([1.e+37]),\n",
       " 'MEAN_POP_WGT': array([[1.00273e+03, 6.03000e-03]]),\n",
       " 'SIX_FF_EPSILON': array([[1.12429, 0.00161]]),\n",
       " 'ANA_KEFF': array([[1.05722   , 0.00437   , 1.05091   , 0.00418   , 0.00671967,\n",
       "         0.05835   ]]),\n",
       " 'USE_DBRC': array([0]),\n",
       " 'ACTINIDE_ING_TOX': array([0.]),\n",
       " 'BALA_LOSS_NEUTRON_CAPT': array([[45253. , 45134.8]]),\n",
       " 'TMS_MODE': array([0]),\n",
       " 'CRIT_SPEC_MODE': array([0]),\n",
       " 'NEUTRON_ERG_NE': array([3277381]),\n",
       " 'IMPL_CAPT': array([0]),\n",
       " 'FISSION_PRODUCT_ING_TOX': array([0.]),\n",
       " 'BALA_NEUTRON_DIFF': array([[ 0.00000e+00, -8.73115e-11]]),\n",
       " 'IMPLICIT_REACTION_RATES': array([0]),\n",
       " 'TOT_DECAY_NUCLIDES': array([0]),\n",
       " 'DOPPLER_PREPROCESSOR': array([0]),\n",
       " 'CYCLE_IDX': array([100]),\n",
       " 'CPU_TYPE': array([b'Intel(R) Xeon(R) CPU E3-1225 v5 @ 3.30GHz'], dtype='|S41'),\n",
       " 'CONFIDENTIAL_DATA': array([0]),\n",
       " 'ESTIMATED_RUNNING_TIME': array([[2.45692, 0.     ]]),\n",
       " 'ALLOC_MEMSIZE': array([2145.58]),\n",
       " 'XS_DATA_FILE_PATH': array([b'/home/zoe/xsdata/jeff312/sss_jeff312.xsdata'], dtype='|S43'),\n",
       " 'AVG_SURF_CROSS': array([[4.98209e+01, 2.12000e-03, 0.00000e+00, 0.00000e+00]]),\n",
       " 'TOT_TRANSPORT_NUCLIDES': array([316]),\n",
       " 'CS137_ACTIVITY': array([0.]),\n",
       " 'PHOTON_DECAY_SOURCE': array([0.]),\n",
       " 'SM149_CAPT': array([[0.00369083, 0.05636   , 0.00818966, 0.05664   ]]),\n",
       " 'SR90_ACTIVITY': array([0.]),\n",
       " 'BALA_LOSS_NEUTRON_CUT': array([[0., 0.]]),\n",
       " 'B1_BURNUP_CORRECTION': array([0]),\n",
       " 'TOT_CAPTRATE': array([[0.45133, 0.00372]]),\n",
       " 'ADJ_PERT_ROSSI_ALPHA': array([[-7.07219,  0.03239]]),\n",
       " 'MEAN_POP_SIZE': array([[1.00273e+03, 6.03000e-03]]),\n",
       " 'URES_AVAIL': array([152]),\n",
       " 'SHARE_BUF_ARRAY': array([0]),\n",
       " 'FISSION_PRODUCT_ACTIVITY': array([0.]),\n",
       " 'ADJ_NAUCHI_GEN_TIME': array([[0.00095644, 0.01019   , 0.00095686, 0.01029   , 0.00078566,\n",
       "         0.13059   ]]),\n",
       " 'AVG_VIRT_COL': array([[4.65468e+01, 1.91000e-03, 0.00000e+00, 0.00000e+00]]),\n",
       " 'I131_ACTIVITY': array([0.]),\n",
       " 'MEMSIZE': array([2030.03]),\n",
       " 'RUNNING_TIME': array([2.46002]),\n",
       " 'COMPILE_DATE': array([b'Aug 23 2019 14:35:57'], dtype='|S20'),\n",
       " 'UFS_ORDER': array([1.]),\n",
       " 'MPI_TASKS': array([1]),\n",
       " 'AVG_TRACKS': array([[3.19334e+02, 4.59000e-03, 0.00000e+00, 0.00000e+00]]),\n",
       " 'INHALATION_TOXICITY': array([0.]),\n",
       " 'U238_FISS': array([[0.00095697, 0.09563   , 0.00226411, 0.09631   ]]),\n",
       " 'INGESTION_TOXICITY': array([0.]),\n",
       " 'TOT_DECAY_HEAT': array([0.]),\n",
       " 'ADJ_MEULEKAMP_LAMBDA': array([[0., 0., 0., 0., 0., 0., 0., 0., 0., 0., 0., 0., 0., 0., 0., 0.,\n",
       "         0., 0.]]),\n",
       " 'HOSTNAME': array([b'Talbot226-Precision-Tower-3420'], dtype='|S30'),\n",
       " 'SIMULATION_COMPLETED': array([1]),\n",
       " 'TRANSPORT_CPU_USAGE': array([[3.8639e+00, 3.8600e-03]]),\n",
       " 'OPTIMIZATION_MODE': array([1]),\n",
       " 'OMP_HISTORY_PROFILE': array([[0.994381, 0.993636, 1.01266 , 0.999328]]),\n",
       " 'SIX_FF_KINF': array([[1.20568, 0.00392]]),\n",
       " 'BALA_LOSS_NEUTRON_FISS': array([[42699., 42584.]]),\n",
       " 'OMP_THREADS': array([4]),\n",
       " 'CS134_ACTIVITY': array([0.]),\n",
       " 'BALA_SRC_NEUTRON_TOT': array([[100273., 100004.]]),\n",
       " 'ADJ_IFP_LIFETIME': array([[0.00100872, 0.02506   , 0.00101028, 0.02531   , 0.00041787,\n",
       "         0.22276   ]]),\n",
       " 'ADJ_IFP_GEN_TIME': array([[0.00095488, 0.02493   , 0.00095645, 0.02522   , 0.00039806,\n",
       "         0.22288   ]]),\n",
       " 'ALBEDO_LEAKRATE': array([[0., 0.]]),\n",
       " 'ACTINIDE_DECAY_HEAT': array([0.]),\n",
       " 'TE132_ACTIVITY': array([0.]),\n",
       " 'IMP_KEFF': array([[1.05763, 0.00424]]),\n",
       " 'TOT_DOSIMETRY_NUCLIDES': array([0]),\n",
       " 'TOT_LOSSRATE': array([[1., 0.]]),\n",
       " 'TOT_GENRATE': array([[1.05759, 0.00424]]),\n",
       " 'IMP_EALF': array([[20.,  0.]]),\n",
       " 'NEUTRON_DECAY_SOURCE': array([0.]),\n",
       " 'PU240_CAPT': array([[0.0173142, 0.02214  , 0.0383578, 0.02171  ]]),\n",
       " 'UFS_MODE': array([0]),\n",
       " 'DEBUG': array([0]),\n",
       " 'MPI_OVERHEAD_TIME': array([[0., 0.]]),\n",
       " 'DOUBLE_INDEXING': array([0]),\n",
       " 'ADJ_IFP_ANA_LAMBDA': array([[3.92775e-01, 2.42450e-01, 1.24667e-02, 0.00000e+00, 2.82917e-02,\n",
       "         0.00000e+00, 4.25244e-02, 0.00000e+00, 1.33042e-01, 0.00000e+00,\n",
       "         2.92467e-01, 3.90000e-09, 6.66488e-01, 0.00000e+00, 1.63478e+00,\n",
       "         0.00000e+00, 3.55460e+00, 0.00000e+00]]),\n",
       " 'BALA_SRC_NEUTRON_FISS': array([[100273., 100000.]]),\n",
       " 'ADJ_NAUCHI_BETA_EFF': array([[6.26892e-03, 5.86200e-02, 2.92733e-04, 2.64520e-01, 1.20637e-03,\n",
       "         1.29130e-01, 4.99253e-04, 2.29760e-01, 1.04269e-03, 1.30460e-01,\n",
       "         1.73179e-03, 1.17480e-01, 7.54190e-04, 1.89200e-01, 6.35833e-04,\n",
       "         1.96450e-01, 1.06069e-04, 5.00230e-01]]),\n",
       " 'ANA_SLOW_TIME': array([[3.94887e-05, 1.61000e-03, 3.94822e-05, 1.61000e-03, 4.08988e-05,\n",
       "         2.44200e-02]]),\n",
       " 'MAT_MEMSIZE': array([4.55]),\n",
       " 'USE_DELNU': array([1]),\n",
       " 'SIX_FF_LF': array([[9.99559e-01, 6.60000e-05]]),\n",
       " 'BALA_SRC_NEUTRON_SRC': array([[0., 0.]]),\n",
       " 'PRECURSOR_GROUPS': array([8]),\n",
       " 'ACTINIDE_INH_TOX': array([0.]),\n",
       " 'TRANSPORT_CYCLE_TIME': array([[1.91707, 1.91707, 0.     ]]),\n",
       " 'URES_EMAX': array([-1.e+37]),\n",
       " 'WORKING_DIRECTORY': array([b'/home/zoe/Documents/uiuc-microreactors/htgr-mr/full-core/htgr-20'],\n",
       "       dtype='|S64'),\n",
       " 'INPUT_FILE_NAME': array([b'htgr-20-full-core.inp'], dtype='|S21'),\n",
       " 'SAMPLE_CAPT': array([1]),\n",
       " 'FWD_ANA_LAMBDA': array([[0.402581  , 0.06846   , 0.00249334, 0.20101   , 0.0195213 ,\n",
       "         0.06737   , 0.0178602 , 0.11811   , 0.0944598 , 0.06423   ,\n",
       "         0.242748  , 0.04548   , 0.266595  , 0.12309   , 0.67026   ,\n",
       "         0.12056   , 0.497644  , 0.2491    ]]),\n",
       " 'OMP_REPRODUCIBILITY': array([1]),\n",
       " 'NUBAR': array([[2.48366e+00, 2.60000e-04]]),\n",
       " 'XS_MEMSIZE': array([1949.35]),\n",
       " 'PROCESS_TIME': array([[0.13555, 0.13555]]),\n",
       " 'FISSION_PRODUCT_DECAY_HEAT': array([0.]),\n",
       " 'XE135_CAPT': array([[0.010857 , 0.02993  , 0.0240953, 0.03008  ]]),\n",
       " 'SEED': array([1602167588952]),\n",
       " 'MISC_MEMSIZE': array([45.44]),\n",
       " 'I132_ACTIVITY': array([0.]),\n",
       " 'FWD_ANA_BETA_ZERO': array([[5.60575e-03, 4.06000e-02, 1.99883e-04, 2.08180e-01, 9.99651e-04,\n",
       "         9.26300e-02, 5.01447e-04, 1.33630e-01, 1.08743e-03, 8.67100e-02,\n",
       "         1.67557e-03, 7.67700e-02, 5.22515e-04, 1.45770e-01, 4.74484e-04,\n",
       "         1.37020e-01, 1.44776e-04, 2.59130e-01]]),\n",
       " 'NFY_DATA_FILE_PATH': array([b'N/A'], dtype='|S3'),\n",
       " 'ANA_ALF': array([[1.85449e+01, 7.00000e-04]]),\n",
       " 'URES_USED': array([0]),\n",
       " 'DT_THRESH': array([[0.9, 0.9]]),\n",
       " 'IDX': 1,\n",
       " 'idx': 0}"
      ]
     },
     "execution_count": 7,
     "metadata": {},
     "output_type": "execute_result"
    }
   ],
   "source": [
    "serpent.parse_res('../full-core/htgr-20/htgr-20-full-core.inp_res.m')"
   ]
  },
  {
   "cell_type": "code",
   "execution_count": 22,
   "metadata": {},
   "outputs": [],
   "source": [
    "fuel = (4/3)*np.pi*(0.02125**3)*(18000)\n",
    "pyroc = 18000*( ((4/3)*np.pi*(0.03475**3) - \n",
    "                 (4/3)*np.pi*(0.03075**3))\n",
    "         + ( (4/3)*np.pi*(0.04225**3) - \n",
    "            (4/3)*np.pi*(0.03828**3) ))\n",
    "sic = ((4/3)*np.pi*(0.03825**3) - (4/3)*np.pi*(0.03475**3))*18000\n",
    "\n",
    "graph = ((4/3)*np.pi*(3.0**3)) - fuel - pyroc - sic\n",
    "\n",
    "tot = (4/3)*np.pi*(3.0**3)"
   ]
  },
  {
   "cell_type": "code",
   "execution_count": 23,
   "metadata": {},
   "outputs": [
    {
     "name": "stdout",
     "output_type": "stream",
     "text": [
      "0.006397135416666668\n",
      "0.021474480715333345\n",
      "0.009332895833333325\n",
      "0.9627954880346667\n"
     ]
    }
   ],
   "source": [
    "print(fuel/tot)\n",
    "print(pyroc/tot)\n",
    "print(sic/tot)\n",
    "print(graph/tot)"
   ]
  },
  {
   "cell_type": "code",
   "execution_count": 24,
   "metadata": {},
   "outputs": [
    {
     "data": {
      "text/plain": [
       "1.0"
      ]
     },
     "execution_count": 24,
     "metadata": {},
     "output_type": "execute_result"
    }
   ],
   "source": [
    "(fuel+pyroc+sic+graph)/tot"
   ]
  },
  {
   "cell_type": "markdown",
   "metadata": {},
   "source": [
    "$$Bg^2 = \\frac{( \\upsilon\\Sigma_f -\\Sigma_a )}{D}$$\n",
    "$$Power Density = \\frac{kW}{g_{fuel}} $$\n",
    "$$ 0.11 {kW/g} = \\frac{20*1000}{m_{fuel}}$$\n",
    "$$m_{fuel} = 181818.18 g$$\n",
    "$$m_{fuel}/\\rho = 181818.18/11.0 = 16528.92 cc$$\n",
    "$$ V_{p} = 18,000 * 4/3 * \\pi * 0.02125^{3} = 0.7235$$\n",
    "$$ 16528.92 cc / 0.7235 = # pebb = 22846 $$\n",
    "$$ \\theta = \\frac{tot pebb vol}{inner core vol} = 0.56 (natural pacfrac)$$\n",
    "$$ inner core vol = 4613967.37 = v = H * \\pi * R^{2} $$\n",
    "$$ H = \\frac{V}{\\pi*R^{2}} $$\n",
    "$$ Bg^{2} = (\\frac{\\pi}{H})^{2} + (\\frac{2.405}{R})^{2} = \\frac{( \\nu\\Sigma_f -\\Sigma_a )}{D} $$\n",
    "$$(\\frac{\\pi^{2}R^{2}}{v})^{2} + (\\frac{2.405}{R})^{2} = \\frac{( \\nu\\Sigma_f -\\Sigma_a )}{D} = 9.98^{-5}$$\n",
    "$$(\\frac{\\pi^{4}}{v^{2}})* R^{4} + (\\frac{2.405}{R})^{2} = \\frac{( \\nu\\Sigma_f -\\Sigma_a )}{D} = 9.98^{-5}$$\n",
    "\n",
    "((clean up variable names))"
   ]
  },
  {
   "cell_type": "code",
   "execution_count": 77,
   "metadata": {},
   "outputs": [
    {
     "name": "stdout",
     "output_type": "stream",
     "text": [
      "4613967.370537226\n",
      "4454865.047415253\n"
     ]
    }
   ],
   "source": [
    "tvp = 22846*4/3*np.pi*3.0**3\n",
    "print(tvp/0.56)\n",
    "print(tvp/0.58)"
   ]
  },
  {
   "cell_type": "code",
   "execution_count": 75,
   "metadata": {},
   "outputs": [
    {
     "name": "stdout",
     "output_type": "stream",
     "text": [
      "127.88156410418941\n"
     ]
    },
    {
     "data": {
      "image/png": "[encoded data removed]",
      "text/plain": [
       "<Figure size 432x288 with 1 Axes>"
      ]
     },
     "metadata": {
      "needs_background": "light"
     },
     "output_type": "display_data"
    }
   ],
   "source": [
    "B2 = 1.10568E-04\n",
    "R = np.linspace(1,200)\n",
    "H = np.pi/(np.sqrt(np.abs( B2 - (2.405/R)**2 )))\n",
    "plt.plot(R,H)\n",
    "print(np.pi/(np.sqrt(np.abs( B2 - (2.405/90)**2 ))))"
   ]
  },
  {
   "cell_type": "code",
   "execution_count": 80,
   "metadata": {},
   "outputs": [
    {
     "name": "stdout",
     "output_type": "stream",
     "text": [
      "179.0212834499301\n"
     ]
    },
    {
     "data": {
      "text/plain": [
       "[<matplotlib.lines.Line2D at 0x7f62acfd0f70>]"
      ]
     },
     "execution_count": 80,
     "metadata": {},
     "output_type": "execute_result"
    },
    {
     "data": {
      "image/png": "[encoded data removed]",
      "text/plain": [
       "<Figure size 432x288 with 1 Axes>"
      ]
     },
     "metadata": {
      "needs_background": "light"
     },
     "output_type": "display_data"
    }
   ],
   "source": [
    "R = np.linspace(50,200)\n",
    "H = 4613967.37/(np.pi*R**2)\n",
    "print(4454865.047415253/(np.pi*89**2))\n",
    "plt.plot(R,H)"
   ]
  },
  {
   "cell_type": "markdown",
   "metadata": {},
   "source": [
    "$$ Bg^{2} = (\\frac{\\pi}{H})^{2} + (\\frac{2.405}{R})^{2} = \\frac{( \\nu\\Sigma_f -\\Sigma_a )}{D} $$\n",
    "$$(\\frac{\\pi}{H})^{2} + (\\frac{2.405}{R})^{2} = \\frac{( \\nu\\Sigma_f -\\Sigma_a )}{D} = 9.98^{-5}$$\n",
    "$$(\\frac{\\pi}{H})^{2} + (\\frac{2.405}{R})^{2} = 9.98^{-5}$$"
   ]
  },
  {
   "cell_type": "markdown",
   "metadata": {},
   "source": [
    "In order to determine the outward surface current, the result for the current given by Serpent's surface detector must be divided by the surface area of the detector, to get units of $\\frac{n}{cm^2s}$"
   ]
  },
  {
   "cell_type": "code",
   "execution_count": 4,
   "metadata": {},
   "outputs": [
    {
     "name": "stdout",
     "output_type": "stream",
     "text": [
      "506977.6560657064\n"
     ]
    }
   ],
   "source": [
    "r20det = 164 #detector radius, cm\n",
    "h20det = 2*164 #detector height, cm\n",
    "\n",
    "sa20det = (2*r20det*np.pi*h20det)+ 2*(np.pi*r20det**2) #detector surface area, cm\n",
    "\n",
    "print(sa20det)"
   ]
  },
  {
   "cell_type": "markdown",
   "metadata": {},
   "source": [
    "The formula for the outward current at the reflector surface is then\n",
    "$$ J^+[\\frac{n}{cm^2s}] = \\frac{J^+[\\frac{n}{s}]}{S_{det}[cm^2]} $$\n",
    "The error becomes:\n",
    "$$ \\delta J^+[\\frac{n}{cm^2s}] = |\\frac{1}{S_{det}}|\\delta J^+[\\frac{n}{s}] $$"
   ]
  },
  {
   "cell_type": "markdown",
   "metadata": {},
   "source": [
    "For the values below, the model run was:\n",
    "\n",
    "- 20 MWth core\n",
    "- 65 cm reflector thickness on sides and top, for a current surface detector radius of 164 cm, and a height of 328 cm\n",
    "- 50,000 neutrons, 100/50 active/inactive cycles\n",
    "- A $\\frac{1}{6}$ slice of the core is used with a periodic boundary condition\n"
   ]
  },
  {
   "cell_type": "code",
   "execution_count": 5,
   "metadata": {},
   "outputs": [
    {
     "name": "stdout",
     "output_type": "stream",
     "text": [
      "0-60: 5.921e+11 +/- 2.900e-09\n",
      "\n",
      "60-120: 5.884e+11 +/- 2.781e-09\n",
      "\n",
      "120-180: 5.908e+11 +/- 2.485e-09\n",
      "\n",
      "180-240: 5.910e+11 +/- 2.900e-09\n",
      "\n",
      "240-300: 5.884e+11 +/- 2.978e-09\n",
      "\n",
      "300-360: 5.888e+11 +/- 2.840e-09\n",
      "\n"
     ]
    }
   ],
   "source": [
    "J_0_60 = 3.002 * 10**17\n",
    "delJ_0_60 = 0.00147\n",
    "J_0_60c = J_0_60/sa20det\n",
    "delJ_0_60c = delJ_0_60/sa20det\n",
    "print(\"0-60: \" + \"{:.3e}\".format(J_0_60c) + \" +/- \" + \"{:.3e}\".format(delJ_0_60c))\n",
    "print()\n",
    "\n",
    "J_60_120 = 2.983 * 10**17\n",
    "delJ_60_120 = 0.00141\n",
    "J_60_120c = J_60_120/sa20det\n",
    "delJ_60_120c = delJ_60_120/sa20det\n",
    "print(\"60-120: \" + \"{:.3e}\".format(J_60_120c) + \" +/- \" + \"{:.3e}\".format(delJ_60_120c))\n",
    "print()\n",
    "\n",
    "J_120_180 = 2.995 * 10**17\n",
    "delJ_120_180 = 0.00126\n",
    "J_120_180c = J_120_180/sa20det\n",
    "delJ_120_180c = delJ_120_180/sa20det\n",
    "print(\"120-180: \" + \"{:.3e}\".format(J_120_180c) + \" +/- \" + \"{:.3e}\".format(delJ_120_180c))\n",
    "print()\n",
    "\n",
    "J_180_240 = 2.996 * 10**17\n",
    "delJ_180_240 = 0.00147\n",
    "J_180_240c = J_180_240/sa20det\n",
    "delJ_180_240c = delJ_180_240/sa20det\n",
    "print(\"180-240: \" + \"{:.3e}\".format(J_180_240c) + \" +/- \" + \"{:.3e}\".format(delJ_180_240c))\n",
    "print()\n",
    "\n",
    "J_240_300 = 2.983 * 10**17\n",
    "delJ_240_300 = 0.00151\n",
    "J_240_300c = J_240_300/sa20det\n",
    "delJ_240_300c = delJ_240_300/sa20det\n",
    "print(\"240-300: \" + \"{:.3e}\".format(J_240_300c) + \" +/- \" + \"{:.3e}\".format(delJ_240_300c))\n",
    "print()\n",
    "\n",
    "J_300_360 = 2.985 * 10**17\n",
    "delJ_300_360 = 0.00144\n",
    "J_300_360c = J_300_360/sa20det\n",
    "delJ_300_360c = delJ_300_360/sa20det\n",
    "print(\"300-360: \" + \"{:.3e}\".format(J_300_360c) + \" +/- \" + \"{:.3e}\".format(delJ_300_360c))\n",
    "print()\n"
   ]
  },
  {
   "cell_type": "markdown",
   "metadata": {},
   "source": [
    "A control run was also made, with all parameters the same as the model the slices came from, but I full core model instead.  The resulting outer $J^+$ is:"
   ]
  },
  {
   "cell_type": "code",
   "execution_count": 6,
   "metadata": {},
   "outputs": [
    {
     "name": "stdout",
     "output_type": "stream",
     "text": [
      "Full 20 MWth Core: 5.884e+11 +/- 2.663e-09\n",
      "\n"
     ]
    }
   ],
   "source": [
    "J_20 = 2.983 * 10**17\n",
    "delJ_20 = 0.00135\n",
    "J_20c = J_20/sa20det\n",
    "delJ_20c = delJ_20/sa20det\n",
    "print(\"Full 20 MWth Core: \" + \"{:.3e}\".format(J_20c) + \" +/- \" + \"{:.3e}\".format(delJ_20c))\n",
    "print()"
   ]
  },
  {
   "cell_type": "code",
   "execution_count": 7,
   "metadata": {},
   "outputs": [
    {
     "name": "stdout",
     "output_type": "stream",
     "text": [
      "0.637% from control\n",
      "0.000% from control\n",
      "0.402% from control\n",
      "0.436% from control\n",
      "0.000% from control\n",
      "0.067% from control\n"
     ]
    }
   ],
   "source": [
    "diff20_0_60 = (J_0_60c - J_20c)/(J_20c)*100 # in %\n",
    "print(\"{:.3f}\".format(abs(diff20_0_60)) + \"% from control\")\n",
    "\n",
    "diff20_60_120 = (J_60_120c - J_20c)/(J_20c)*100 # in %\n",
    "print(\"{:.3f}\".format(abs(diff20_60_120)) + \"% from control\")\n",
    "\n",
    "\n",
    "diff20_120_180 = (J_120_180c - J_20c)/(J_20c)*100 # in %\n",
    "print(\"{:.3f}\".format(abs(diff20_120_180)) + \"% from control\")\n",
    "\n",
    "\n",
    "diff20_180_240 = (J_180_240c - J_20c)/(J_20c)*100 # in %\n",
    "print(\"{:.3f}\".format(abs(diff20_180_240)) + \"% from control\")\n",
    "\n",
    "\n",
    "diff20_240_300 = (J_240_300c - J_20c)/(J_20c)*100 # in %\n",
    "print(\"{:.3f}\".format(abs(diff20_240_300)) + \"% from control\")\n",
    "\n",
    "\n",
    "diff20_300_360 = (J_300_360c - J_20c)/(J_20c)*100 # in %\n",
    "print(\"{:.3f}\".format(abs(diff20_300_360)) + \"% from control\")"
   ]
  },
  {
   "cell_type": "markdown",
   "metadata": {},
   "source": [
    "The same exercise was performed as above for testing the sensitivity of the model to the pebble burnup locations (the model still uses a 1/6 symmetry).  The locations of the pebbles stayed the same, but had different burnups assigned to them, as follows:\n",
    "\n",
    "Original (Run 1): <br>\n",
    "\n",
    "Positions \"0\":  Burnup 0 <br>\n",
    "Positions \"1\":  Burnup 1 <br>\n",
    "Positions \"2\":  Burnup 2 <br>\n",
    "Positions \"3\":  Burnup 3 <br>\n",
    "Positions \"4\":  Burnup 4 <br>\n",
    "Positions \"5\":  Burnup 5 <br>\n",
    "Positions \"6\":  Burnup 6 <br>\n",
    "\n",
    "This model is identical to the 0-60 slice run described above.  To change the level of the burnup locations, subsequent runs had the pebble compositions re-assigned as follows:\n",
    "\n",
    "Run 2: <br>\n",
    "\n",
    "Positions \"0\":  Burnup 6 <br>\n",
    "Positions \"1\":  Burnup 0 <br>\n",
    "Positions \"2\":  Burnup 1 <br>\n",
    "Positions \"3\":  Burnup 2 <br>\n",
    "Positions \"4\":  Burnup 3 <br>\n",
    "Positions \"5\":  Burnup 4 <br>\n",
    "Positions \"6\":  Burnup 5 <br>\n",
    "\n",
    "Run 3: <br>\n",
    "\n",
    "Positions \"0\":  Burnup 5 <br>\n",
    "Positions \"1\":  Burnup 6 <br>\n",
    "Positions \"2\":  Burnup 0 <br>\n",
    "Positions \"3\":  Burnup 1 <br>\n",
    "Positions \"4\":  Burnup 2 <br>\n",
    "Positions \"5\":  Burnup 3 <br>\n",
    "Positions \"6\":  Burnup 4 <br>\n",
    "\n",
    "Run 4: <br>\n",
    "\n",
    "Positions \"0\":  Burnup 4 <br>\n",
    "Positions \"1\":  Burnup 5 <br>\n",
    "Positions \"2\":  Burnup 6 <br>\n",
    "Positions \"3\":  Burnup 0 <br>\n",
    "Positions \"4\":  Burnup 1 <br>\n",
    "Positions \"5\":  Burnup 2 <br>\n",
    "Positions \"6\":  Burnup 3 <br>\n",
    "\n",
    "Run 5: <br>\n",
    "\n",
    "Positions \"0\":  Burnup 3 <br>\n",
    "Positions \"1\":  Burnup 4 <br>\n",
    "Positions \"2\":  Burnup 5 <br>\n",
    "Positions \"3\":  Burnup 6 <br>\n",
    "Positions \"4\":  Burnup 0 <br>\n",
    "Positions \"5\":  Burnup 1 <br>\n",
    "Positions \"6\":  Burnup 2 <br>\n",
    "\n",
    "Run 6: <br>\n",
    "\n",
    "Positions \"0\":  Burnup 2 <br>\n",
    "Positions \"1\":  Burnup 3 <br>\n",
    "Positions \"2\":  Burnup 4 <br>\n",
    "Positions \"3\":  Burnup 5 <br>\n",
    "Positions \"4\":  Burnup 6 <br>\n",
    "Positions \"5\":  Burnup 0 <br>\n",
    "Positions \"6\":  Burnup 1 <br>\n",
    "\n",
    "Run 7: <br>\n",
    "\n",
    "Positions \"0\":  Burnup 1 <br>\n",
    "Positions \"1\":  Burnup 2 <br>\n",
    "Positions \"2\":  Burnup 3 <br>\n",
    "Positions \"3\":  Burnup 4 <br>\n",
    "Positions \"4\":  Burnup 5 <br>\n",
    "Positions \"5\":  Burnup 6 <br>\n",
    "Positions \"6\":  Burnup 0 <br>\n",
    "\n",
    "The detector size didn't change from the previous runs, so the conversion to $[\\frac{n}{cm^2s}]$ is simple.\n"
   ]
  },
  {
   "cell_type": "code",
   "execution_count": 8,
   "metadata": {},
   "outputs": [
    {
     "name": "stdout",
     "output_type": "stream",
     "text": [
      "Run 1: 5.921e+11 +/- 2.900e-09\n",
      "\n",
      "Run 2: 5.908e+11 +/- 3.057e-09\n",
      "\n",
      "Run 3: 5.888e+11 +/- 2.584e-09\n",
      "\n",
      "Run 4: 5.906e+11 +/- 2.840e-09\n",
      "\n",
      "Run 5: 5.929e+11 +/- 2.742e-09\n",
      "\n",
      "Run 6: 5.939e+11 +/- 2.604e-09\n",
      "\n",
      "Run 7: 5.949e+11 +/- 2.623e-09\n",
      "\n"
     ]
    }
   ],
   "source": [
    "J_0_60 = 3.002 * 10**17\n",
    "delJ_0_60 = 0.00147\n",
    "J_0_60c = J_0_60/sa20det\n",
    "delJ_0_60c = delJ_0_60/sa20det\n",
    "print(\"Run 1: \" + \"{:.3e}\".format(J_0_60c) + \" +/- \" + \"{:.3e}\".format(delJ_0_60c))\n",
    "print()\n",
    "\n",
    "J_r2 = 2.995 * 10**17\n",
    "delJ_r2 = 0.00155\n",
    "J_r2c = J_r2/sa20det\n",
    "delJ_r2c = delJ_r2/sa20det\n",
    "print(\"Run 2: \" + \"{:.3e}\".format(J_r2c) + \" +/- \" + \"{:.3e}\".format(delJ_r2c))\n",
    "print()\n",
    "\n",
    "J_r3 = 2.985 * 10**17\n",
    "delJ_r3 = 0.00131\n",
    "J_r3c = J_r3/sa20det\n",
    "delJ_r3c = delJ_r3/sa20det\n",
    "print(\"Run 3: \" + \"{:.3e}\".format(J_r3c) + \" +/- \" + \"{:.3e}\".format(delJ_r3c))\n",
    "print()\n",
    "\n",
    "J_r4 = 2.994 * 10**17\n",
    "delJ_r4 = 0.00144\n",
    "J_r4c = J_r4/sa20det\n",
    "delJ_r4c = delJ_r4/sa20det\n",
    "print(\"Run 4: \" + \"{:.3e}\".format(J_r4c) + \" +/- \" + \"{:.3e}\".format(delJ_r4c))\n",
    "print()\n",
    "\n",
    "J_r5 = 3.006 * 10**17\n",
    "delJ_r5 = 0.00139\n",
    "J_r5c = J_r5/sa20det\n",
    "delJ_r5c = delJ_r5/sa20det\n",
    "print(\"Run 5: \" + \"{:.3e}\".format(J_r5c) + \" +/- \" + \"{:.3e}\".format(delJ_r5c))\n",
    "print()\n",
    "\n",
    "J_r6 = 3.011 * 10**17\n",
    "delJ_r6 = 0.00132\n",
    "J_r6c = J_r6/sa20det\n",
    "delJ_r6c = delJ_r6/sa20det\n",
    "print(\"Run 6: \" + \"{:.3e}\".format(J_r6c) + \" +/- \" + \"{:.3e}\".format(delJ_r6c))\n",
    "print()\n",
    "\n",
    "J_r7 = 3.016 * 10**17\n",
    "delJ_r7 = 0.00133\n",
    "J_r7c = J_r7/sa20det\n",
    "delJ_r7c = delJ_r7/sa20det\n",
    "print(\"Run 7: \" + \"{:.3e}\".format(J_r7c) + \" +/- \" + \"{:.3e}\".format(delJ_r7c))\n",
    "print()"
   ]
  },
  {
   "cell_type": "markdown",
   "metadata": {},
   "source": [
    "These results can be compared to the control, as before, using the relative difference..."
   ]
  },
  {
   "cell_type": "code",
   "execution_count": 9,
   "metadata": {},
   "outputs": [
    {
     "name": "stdout",
     "output_type": "stream",
     "text": [
      "0.637% from control\n",
      "0.402% from control\n",
      "0.067% from control\n",
      "0.369% from control\n",
      "0.771% from control\n",
      "0.939% from control\n",
      "1.106% from control\n"
     ]
    }
   ],
   "source": [
    "diff20_0_60 = (J_0_60c - J_20c)/(J_20c)*100 # in %\n",
    "print(\"{:.3f}\".format(abs(diff20_0_60)) + \"% from control\")\n",
    "\n",
    "diff20_r2 = (J_r2c - J_20c)/(J_20c)*100 # in %\n",
    "print(\"{:.3f}\".format(abs(diff20_r2)) + \"% from control\")\n",
    "\n",
    "\n",
    "diff20_r3 = (J_r3c - J_20c)/(J_20c)*100 # in %\n",
    "print(\"{:.3f}\".format(abs(diff20_r3)) + \"% from control\")\n",
    "\n",
    "\n",
    "diff20_r4 = (J_r4c - J_20c)/(J_20c)*100 # in %\n",
    "print(\"{:.3f}\".format(abs(diff20_r4)) + \"% from control\")\n",
    "\n",
    "\n",
    "diff20_r5 = (J_r5c - J_20c)/(J_20c)*100 # in %\n",
    "print(\"{:.3f}\".format(abs(diff20_r5)) + \"% from control\")\n",
    "\n",
    "\n",
    "diff20_r6 = (J_r6c - J_20c)/(J_20c)*100 # in %\n",
    "print(\"{:.3f}\".format(abs(diff20_r6)) + \"% from control\")\n",
    "\n",
    "diff20_r7 = (J_r7c - J_20c)/(J_20c)*100 # in %\n",
    "print(\"{:.3f}\".format(abs(diff20_r7)) + \"% from control\")"
   ]
  },
  {
   "cell_type": "markdown",
   "metadata": {},
   "source": [
    "The reflector thickness is chosen such that the outward surface current is less than or equal to the outward current of the 200MWth design.  The outward current for this design can be, as above, found by dividing the surface current given in the Serpent output, in $[\\frac{n}{s}]$, by the surface area of the detector.  Thus, the \"target\" current is:"
   ]
  },
  {
   "cell_type": "code",
   "execution_count": 10,
   "metadata": {},
   "outputs": [
    {
     "name": "stdout",
     "output_type": "stream",
     "text": [
      "200MWth full core: 7.351e+11 +/- 7.060e-10\n"
     ]
    }
   ],
   "source": [
    "r200det = 215 #detector radius, cm\n",
    "h200det = 2*574 #detector height, cm\n",
    "\n",
    "sa200det = (2*r200det*np.pi*h200det)+ 2*(np.pi*r200det**2) #detector surface area, cm\n",
    "\n",
    "J_200 = 1.35352 * 10**18\n",
    "delJ_200 = 0.00130\n",
    "J_200c = J_200/sa200det\n",
    "delJ_200c = delJ_200/sa200det\n",
    "print(\"200MWth full core: \" + \"{:.3e}\".format(J_200c) + \" +/- \" + \"{:.3e}\".format(delJ_200c))"
   ]
  },
  {
   "cell_type": "markdown",
   "metadata": {},
   "source": [
    "The relative difference is simply\n",
    "$$ \\frac{J^+_{200} - J^+_{20}}{J^+_{200}} $$"
   ]
  },
  {
   "cell_type": "code",
   "execution_count": 11,
   "metadata": {
    "scrolled": true
   },
   "outputs": [
    {
     "name": "stdout",
     "output_type": "stream",
     "text": [
      "19.449% decrease\n",
      "19.959% decrease\n",
      "19.637% decrease\n",
      "19.610% decrease\n",
      "19.959% decrease\n",
      "19.905% decrease\n"
     ]
    }
   ],
   "source": [
    "diff_0_60 = (J_0_60c - J_200c)/(J_200c)*100 # in %\n",
    "if diff_0_60 < 0:\n",
    "    print(\"{:.3f}\".format(abs(diff_0_60)) + \"% decrease\")\n",
    "else:\n",
    "    print(\"{:.3f}\".format(abs(diff_0_60)) + \"% increase\")\n",
    "\n",
    "\n",
    "diff_60_120 = (J_60_120c - J_200c)/(J_200c)*100 # in %\n",
    "if diff_60_120 < 0:\n",
    "    print(\"{:.3f}\".format(abs(diff_60_120)) + \"% decrease\")\n",
    "else:\n",
    "    print(\"{:.3f}\".format(abs(diff_60_120)) + \"% increase\")\n",
    "\n",
    "\n",
    "diff_120_180 = (J_120_180c - J_200c)/(J_200c)*100 # in %\n",
    "if diff_120_180 < 0:\n",
    "    print(\"{:.3f}\".format(abs(diff_120_180)) + \"% decrease\")\n",
    "else:\n",
    "    print(\"{:.3f}\".format(abs(diff_120_180)) + \"% increase\")\n",
    "\n",
    "\n",
    "diff_180_240 = (J_180_240c - J_200c)/(J_200c)*100 # in %\n",
    "if diff_180_240 < 0:\n",
    "    print(\"{:.3f}\".format(abs(diff_180_240)) + \"% decrease\")\n",
    "else:\n",
    "    print(\"{:.3f}\".format(abs(diff_180_240)) + \"% increase\")\n",
    "\n",
    "\n",
    "diff_240_300 = (J_240_300c - J_200c)/(J_200c)*100 # in %\n",
    "if diff_240_300 < 0:\n",
    "    print(\"{:.3f}\".format(abs(diff_240_300)) + \"% decrease\")\n",
    "else:\n",
    "    print(\"{:.3f}\".format(abs(diff_240_300)) + \"% increase\")\n",
    "\n",
    "\n",
    "diff_300_360 = (J_300_360c - J_200c)/(J_200c)*100 # in %\n",
    "if diff_300_360 < 0:\n",
    "    print(\"{:.3f}\".format(abs(diff_300_360)) + \"% decrease\")\n",
    "else:\n",
    "    print(\"{:.3f}\".format(abs(diff_300_360)) + \"% increase\")"
   ]
  },
  {
   "cell_type": "markdown",
   "metadata": {},
   "source": [
    "The same can be calculated for the burnup-shuffling test:"
   ]
  },
  {
   "cell_type": "code",
   "execution_count": 12,
   "metadata": {},
   "outputs": [
    {
     "name": "stdout",
     "output_type": "stream",
     "text": [
      "19.449% decrease\n",
      "19.637% decrease\n",
      "19.905% decrease\n",
      "19.664% decrease\n",
      "19.342% decrease\n",
      "19.207% decrease\n",
      "19.073% decrease\n"
     ]
    }
   ],
   "source": [
    "diff_0_60 = (J_0_60c - J_200c)/(J_200c)*100 # in %\n",
    "if diff_0_60 < 0:\n",
    "    print(\"{:.3f}\".format(abs(diff_0_60)) + \"% decrease\")\n",
    "else:\n",
    "    print(\"{:.3f}\".format(abs(diff_0_60)) + \"% increase\")\n",
    "\n",
    "\n",
    "diff_r2 = (J_r2c - J_200c)/(J_200c)*100 # in %\n",
    "if diff_r2 < 0:\n",
    "    print(\"{:.3f}\".format(abs(diff_r2)) + \"% decrease\")\n",
    "else:\n",
    "    print(\"{:.3f}\".format(abs(diff_r2)) + \"% increase\")\n",
    "\n",
    "\n",
    "diff_r3 = (J_r3c - J_200c)/(J_200c)*100 # in %\n",
    "if diff_r3 < 0:\n",
    "    print(\"{:.3f}\".format(abs(diff_r3)) + \"% decrease\")\n",
    "else:\n",
    "    print(\"{:.3f}\".format(abs(diff_r3)) + \"% increase\")\n",
    "\n",
    "\n",
    "diff_r4 = (J_r4c - J_200c)/(J_200c)*100 # in %\n",
    "if diff_r4 < 0:\n",
    "    print(\"{:.3f}\".format(abs(diff_r4)) + \"% decrease\")\n",
    "else:\n",
    "    print(\"{:.3f}\".format(abs(diff_r4)) + \"% increase\")\n",
    "\n",
    "\n",
    "diff_r5 = (J_r5c - J_200c)/(J_200c)*100 # in %\n",
    "if diff_r5 < 0:\n",
    "    print(\"{:.3f}\".format(abs(diff_r5)) + \"% decrease\")\n",
    "else:\n",
    "    print(\"{:.3f}\".format(abs(diff_r5)) + \"% increase\")\n",
    "\n",
    "\n",
    "diff_r6 = (J_r6c - J_200c)/(J_200c)*100 # in %\n",
    "if diff_r6< 0:\n",
    "    print(\"{:.3f}\".format(abs(diff_r6)) + \"% decrease\")\n",
    "else:\n",
    "    print(\"{:.3f}\".format(abs(diff_r6)) + \"% increase\")\n",
    "    \n",
    "diff_r7 = (J_r7c - J_200c)/(J_200c)*100 # in %\n",
    "if diff_r7 < 0:\n",
    "    print(\"{:.3f}\".format(abs(diff_r7)) + \"% decrease\")\n",
    "else:\n",
    "    print(\"{:.3f}\".format(abs(diff_r7)) + \"% increase\")"
   ]
  },
  {
   "cell_type": "markdown",
   "metadata": {},
   "source": [
    "How much damage is ~6.0e11 $\\frac{n}{cm^2s}$?  Using the following example from Light Water Reactor Materials, page 555 by Olander to make an estimate,\n",
    "![olander-555](olander-pg555.jpg)\n",
    "With 6.0e11 $\\frac{n}{cm^2s}$ as the incoming neutron current and 20 years as the lifetime, we have"
   ]
  },
  {
   "cell_type": "code",
   "execution_count": 13,
   "metadata": {},
   "outputs": [
    {
     "name": "stdout",
     "output_type": "stream",
     "text": [
      "1.24e-09 dpa per second\n"
     ]
    }
   ],
   "source": [
    "etp = 0.069\n",
    "sigS = 3*10**(-24)\n",
    "Ed = 4\n",
    "\n",
    "flux = 6*10**11\n",
    "\n",
    "dpas = flux*(sigS/(Ed*25))*etp*10**6\n",
    "\n",
    "print(\"{:.2e}\".format(dpas) + \" dpa per second\")"
   ]
  },
  {
   "cell_type": "code",
   "execution_count": 14,
   "metadata": {},
   "outputs": [
    {
     "name": "stdout",
     "output_type": "stream",
     "text": [
      "7.83e-01 total dpa in lifetime\n"
     ]
    }
   ],
   "source": [
    "time = 60*60*24*365*20\n",
    "\n",
    "dpa = time*dpas\n",
    "\n",
    "\n",
    "print(\"{:.2e}\".format(dpa) + \" total dpa in lifetime\")"
   ]
  },
  {
   "cell_type": "code",
   "execution_count": 15,
   "metadata": {},
   "outputs": [
    {
     "name": "stdout",
     "output_type": "stream",
     "text": [
      "3.78e+20 total fluence in lifetime\n"
     ]
    }
   ],
   "source": [
    "fluence = flux*time\n",
    "print(\"{:.2e}\".format(fluence) + \" total fluence in lifetime\")"
   ]
  },
  {
   "cell_type": "code",
   "execution_count": 16,
   "metadata": {},
   "outputs": [
    {
     "name": "stdout",
     "output_type": "stream",
     "text": [
      "At Reflector thickness 60 cm, Jout is 9.126e+11 +/- 3.584e-09\n",
      "\n",
      "At Reflector thickness 61 cm, Jout is 8.724e+11 +/- 3.419e-09\n",
      "\n",
      "At Reflector thickness 62 cm, Jout is 8.602e+11 +/- 3.141e-09\n",
      "\n",
      "At Reflector thickness 63 cm, Jout is 8.352e+11 +/- 2.985e-09\n",
      "\n",
      "At Reflector thickness 64 cm, Jout is 8.089e+11 +/- 3.082e-09\n",
      "\n",
      "At Reflector thickness 65 cm, Jout is 7.857e+11 +/- 2.774e-09\n",
      "\n",
      "At Reflector thickness 66 cm, Jout is 7.616e+11 +/- 2.849e-09\n",
      "\n",
      "At Reflector thickness 67 cm, Jout is 7.429e+11 +/- 2.899e-09\n",
      "\n",
      "At Reflector thickness 68 cm, Jout is 7.201e+11 +/- 2.906e-09\n",
      "\n",
      "At Reflector thickness 69 cm, Jout is 7.019e+11 +/- 3.230e-09\n",
      "\n",
      "At Reflector thickness 70 cm, Jout is 6.808e+11 +/- 2.623e-09\n",
      "\n",
      "At Reflector thickness 71 cm, Jout is 6.621e+11 +/- 2.963e-09\n",
      "\n",
      "At Reflector thickness 72 cm, Jout is 6.436e+11 +/- 3.111e-09\n",
      "\n",
      "At Reflector thickness 73 cm, Jout is 6.248e+11 +/- 2.830e-09\n",
      "\n",
      "At Reflector thickness 74 cm, Jout is 6.078e+11 +/- 2.756e-09\n",
      "\n",
      "At Reflector thickness 75 cm, Jout is 5.913e+11 +/- 2.742e-09\n",
      "\n",
      "At Reflector thickness 76 cm, Jout is 5.735e+11 +/- 2.650e-09\n",
      "\n",
      "At Reflector thickness 77 cm, Jout is 5.605e+11 +/- 3.003e-09\n",
      "\n",
      "At Reflector thickness 78 cm, Jout is 5.435e+11 +/- 2.435e-09\n",
      "\n",
      "At Reflector thickness 79 cm, Jout is 5.303e+11 +/- 2.481e-09\n",
      "\n",
      "At Reflector thickness 80 cm, Jout is 5.162e+11 +/- 2.823e-09\n",
      "\n",
      "At Reflector thickness 85 cm, Jout is 4.511e+11 +/- 2.506e-09\n",
      "\n"
     ]
    }
   ],
   "source": [
    "rdet = [149,150,151, 152, 153, 154, 155, 156, 157, 158, 159, 160,\n",
    "        161, 162, 163, 164, 165, 166, 167, 168, 169,  174] #detector radius, cm, h = 2r\n",
    "\n",
    "jout = [3.81909E+17,3.69988E+17,3.69706E+17,3.63749E+17,3.56906E+17,3.51244E+17,\n",
    "        3.44891E+17,3.40773E+17,3.34593E+17,3.30305E+17,3.24404E+17,3.19477E+17,\n",
    "        3.14463E+17,3.09080E+17,3.04416E+17,2.99788E+17,2.94288E+17,2.91140E+17,\n",
    "        2.85709E+17,2.82150E+17,2.77906E+17,2.57451E+17]\n",
    "\n",
    "delj = [.00150,0.00145,0.00135,0.00130,0.00136,0.00124,0.00129,0.00133,\n",
    "        0.00135,0.00152,0.00125,0.00143,0.00152,0.00140,0.00138,0.00139,\n",
    "        0.00136,0.00156,0.00128,0.00132,0.00152,0.00143]\n",
    "\n",
    "imp_keff = [1.01545,1.01916,1.01962,1.02139,1.02344,1.02535,1.02772,\n",
    "            1.02815,1.03027,1.03107,1.03313,1.03501,1.03587,1.03761,\n",
    "            1.03922,1.03988,1.04224,1.04183,1.04401,1.04432,1.04548,1.04976]\n",
    "\n",
    "delimp_keff = [0.00038,0.00039,0.00039,0.00037,0.00037,0.00036,0.00034,\n",
    "             0.00036,0.00039,0.00037,0.00034,0.00038,0.00040,0.00037,\n",
    "             0.00035,0.00034,0.00037,0.00038,0.00032,0.00036,0.00035,0.00035]\n",
    "\n",
    "joutc = []\n",
    "deljc = []\n",
    "\n",
    "for i, r in enumerate(rdet):\n",
    "    sadet = (2*r*np.pi*2*r)+ 2*(np.pi*r**2)\n",
    "    joutc.append(jout[i]/(sadet))\n",
    "    deljc.append(delj[i]/sadet)\n",
    "\n",
    "for i, v in enumerate(joutc):\n",
    "    print(\"At Reflector thickness \" + \"{:d}\".format(rdet[i]-89) + \" cm, Jout is \" +  \n",
    "          \"{:.3e}\".format(v) + \" +/- \" + \"{:.3e}\".format(deljc[i])  )\n",
    "    print()"
   ]
  },
  {
   "cell_type": "code",
   "execution_count": 20,
   "metadata": {},
   "outputs": [
    {
     "data": {
      "text/plain": [
       "<matplotlib.legend.Legend at 0x7fafd7f0e150>"
      ]
     },
     "execution_count": 20,
     "metadata": {},
     "output_type": "execute_result"
    },
    {
     "data": {
      "image/png": "[encoded data removed]",
      "text/plain": [
       "<Figure size 432x288 with 1 Axes>"
      ]
     },
     "metadata": {
      "needs_background": "light"
     },
     "output_type": "display_data"
    }
   ],
   "source": [
    "plt.plot(rdet,joutc)\n",
    "plt.plot(rdet, J_200c*np.ones(len(rdet)))\n",
    "plt.title(\"Jout(det_radius) vs Detector Radius\")\n",
    "plt.xlabel(\"Detector Radius [cm]\")\n",
    "plt.ylabel(\"Outward Current [n/cm^2-s]\")\n",
    "plt.legend([\"Outward Current: 20 MWth\",\"Outward Current at Outer Bound, 200 MWth\"])"
   ]
  },
  {
   "cell_type": "code",
   "execution_count": 21,
   "metadata": {},
   "outputs": [
    {
     "data": {
      "text/plain": [
       "Text(0, 0.5, 'K')"
      ]
     },
     "execution_count": 21,
     "metadata": {},
     "output_type": "execute_result"
    },
    {
     "data": {
      "image/png": "[encoded data removed]",
      "text/plain": [
       "<Figure size 432x288 with 1 Axes>"
      ]
     },
     "metadata": {
      "needs_background": "light"
     },
     "output_type": "display_data"
    }
   ],
   "source": [
    "plt.plot(rdet,imp_keff)\n",
    "plt.plot(rdet,np.ones(len(rdet)))\n",
    "plt.title(\"Implicit K Effective vs Reflector Thickness\")\n",
    "plt.xlabel(\"Reflector Thickness [cm]\")\n",
    "plt.ylabel(\"K\")"
   ]
  },
  {
   "cell_type": "code",
   "execution_count": null,
   "metadata": {},
   "outputs": [],
   "source": []
  }
 ],
 "metadata": {
  "kernelspec": {
   "display_name": "Python 3",
   "language": "python",
   "name": "python3"
  },
  "language_info": {
   "codemirror_mode": {
    "name": "ipython",
    "version": 3
   },
   "file_extension": ".py",
   "mimetype": "text/x-python",
   "name": "python",
   "nbconvert_exporter": "python",
   "pygments_lexer": "ipython3",
   "version": "3.8.5"
  }
 },
 "nbformat": 4,
 "nbformat_minor": 2
}
